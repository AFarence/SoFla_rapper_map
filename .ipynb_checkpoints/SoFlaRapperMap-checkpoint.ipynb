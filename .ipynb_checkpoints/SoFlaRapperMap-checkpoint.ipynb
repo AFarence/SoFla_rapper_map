{
 "cells": [
  {
   "cell_type": "code",
   "execution_count": 27,
   "metadata": {},
   "outputs": [],
   "source": [
    "from geopy.geocoders import GoogleV3\n",
    "import numpy as np\n",
    "import geocoder\n",
    "import pandas as pd\n",
    "import base64\n",
    "from geojson import Feature, FeatureCollection, Point"
   ]
  },
  {
   "cell_type": "code",
   "execution_count": 13,
   "metadata": {},
   "outputs": [],
   "source": [
    "%store -r google_maps_API_Key\n",
    "geolocator = GoogleV3(api_key=google_maps_API_Key)"
   ]
  },
  {
   "cell_type": "code",
   "execution_count": 14,
   "metadata": {},
   "outputs": [],
   "source": [
    "df = pd.read_csv('so_fla_rappers.csv')"
   ]
  },
  {
   "cell_type": "code",
   "execution_count": 15,
   "metadata": {},
   "outputs": [
    {
     "data": {
      "text/html": [
       "<div>\n",
       "<style scoped>\n",
       "    .dataframe tbody tr th:only-of-type {\n",
       "        vertical-align: middle;\n",
       "    }\n",
       "\n",
       "    .dataframe tbody tr th {\n",
       "        vertical-align: top;\n",
       "    }\n",
       "\n",
       "    .dataframe thead th {\n",
       "        text-align: right;\n",
       "    }\n",
       "</style>\n",
       "<table border=\"1\" class=\"dataframe\">\n",
       "  <thead>\n",
       "    <tr style=\"text-align: right;\">\n",
       "      <th></th>\n",
       "      <th>rapper</th>\n",
       "      <th>address</th>\n",
       "      <th>price</th>\n",
       "      <th>date_bought</th>\n",
       "      <th>image_url</th>\n",
       "    </tr>\n",
       "  </thead>\n",
       "  <tbody>\n",
       "    <tr>\n",
       "      <th>0</th>\n",
       "      <td>Sean \"P. Diddy\" Combs</td>\n",
       "      <td>1 Star Island Drive, Miami Beach, Fl 33139</td>\n",
       "      <td>$35 million</td>\n",
       "      <td>July 23, 2021</td>\n",
       "      <td>https://en.wikipedia.org/wiki/Sean_Combs#/medi...</td>\n",
       "    </tr>\n",
       "    <tr>\n",
       "      <th>1</th>\n",
       "      <td>Sean \"P. Diddy\" Combs</td>\n",
       "      <td>2 Star Island Drive, Miami Beach, Fl 33139</td>\n",
       "      <td>$15 million</td>\n",
       "      <td>November 1, 2003</td>\n",
       "      <td>https://en.wikipedia.org/wiki/Sean_Combs#/medi...</td>\n",
       "    </tr>\n",
       "    <tr>\n",
       "      <th>2</th>\n",
       "      <td>DJ Khaled</td>\n",
       "      <td>4609 Pine Tree Drive, Miami Beach, FL 33140</td>\n",
       "      <td>$21.7 million</td>\n",
       "      <td>September 28, 2018</td>\n",
       "      <td>https://en.wikipedia.org/wiki/DJ_Khaled#/media...</td>\n",
       "    </tr>\n",
       "    <tr>\n",
       "      <th>3</th>\n",
       "      <td>Lil Wayne</td>\n",
       "      <td>6480 Allison Road, Miami Beach, FL 33141</td>\n",
       "      <td>$16.7 million</td>\n",
       "      <td>November 21, 2018</td>\n",
       "      <td>https://en.wikipedia.org/wiki/Lil_Wayne#/media...</td>\n",
       "    </tr>\n",
       "    <tr>\n",
       "      <th>4</th>\n",
       "      <td>Lil Pump</td>\n",
       "      <td>1510 Bay Drive, Miami Beach, FL 33141</td>\n",
       "      <td>$4.6 million</td>\n",
       "      <td>July 3, 2019</td>\n",
       "      <td>https://en.wikipedia.org/wiki/Lil_Pump#/media/...</td>\n",
       "    </tr>\n",
       "    <tr>\n",
       "      <th>5</th>\n",
       "      <td>Trippie Redd</td>\n",
       "      <td>5600 Southwest 136th Avenue, Southwest Ranches...</td>\n",
       "      <td>$7.5 million</td>\n",
       "      <td>May 13, 2022</td>\n",
       "      <td>https://en.wikipedia.org/wiki/Trippie_Redd#/me...</td>\n",
       "    </tr>\n",
       "    <tr>\n",
       "      <th>6</th>\n",
       "      <td>Rick Ross</td>\n",
       "      <td>16800 Bershire Court, Southwest Ranches, FL 33331</td>\n",
       "      <td>$3.5 million</td>\n",
       "      <td>March 2, 2021</td>\n",
       "      <td>https://en.wikipedia.org/wiki/Rick_Ross</td>\n",
       "    </tr>\n",
       "    <tr>\n",
       "      <th>7</th>\n",
       "      <td>Kodak Black</td>\n",
       "      <td>10031 Vestal Place, Coral Springs</td>\n",
       "      <td>$1.8 million</td>\n",
       "      <td>February 18, 2022</td>\n",
       "      <td>https://en.wikipedia.org/wiki/Kodak_Black#/med...</td>\n",
       "    </tr>\n",
       "  </tbody>\n",
       "</table>\n",
       "</div>"
      ],
      "text/plain": [
       "                  rapper                                            address  \\\n",
       "0  Sean \"P. Diddy\" Combs         1 Star Island Drive, Miami Beach, Fl 33139   \n",
       "1  Sean \"P. Diddy\" Combs         2 Star Island Drive, Miami Beach, Fl 33139   \n",
       "2              DJ Khaled        4609 Pine Tree Drive, Miami Beach, FL 33140   \n",
       "3              Lil Wayne           6480 Allison Road, Miami Beach, FL 33141   \n",
       "4               Lil Pump              1510 Bay Drive, Miami Beach, FL 33141   \n",
       "5           Trippie Redd  5600 Southwest 136th Avenue, Southwest Ranches...   \n",
       "6              Rick Ross  16800 Bershire Court, Southwest Ranches, FL 33331   \n",
       "7            Kodak Black                  10031 Vestal Place, Coral Springs   \n",
       "\n",
       "           price         date_bought  \\\n",
       "0    $35 million       July 23, 2021   \n",
       "1    $15 million    November 1, 2003   \n",
       "2  $21.7 million  September 28, 2018   \n",
       "3  $16.7 million   November 21, 2018   \n",
       "4   $4.6 million        July 3, 2019   \n",
       "5   $7.5 million        May 13, 2022   \n",
       "6   $3.5 million       March 2, 2021   \n",
       "7   $1.8 million   February 18, 2022   \n",
       "\n",
       "                                           image_url  \n",
       "0  https://en.wikipedia.org/wiki/Sean_Combs#/medi...  \n",
       "1  https://en.wikipedia.org/wiki/Sean_Combs#/medi...  \n",
       "2  https://en.wikipedia.org/wiki/DJ_Khaled#/media...  \n",
       "3  https://en.wikipedia.org/wiki/Lil_Wayne#/media...  \n",
       "4  https://en.wikipedia.org/wiki/Lil_Pump#/media/...  \n",
       "5  https://en.wikipedia.org/wiki/Trippie_Redd#/me...  \n",
       "6            https://en.wikipedia.org/wiki/Rick_Ross  \n",
       "7  https://en.wikipedia.org/wiki/Kodak_Black#/med...  "
      ]
     },
     "execution_count": 15,
     "metadata": {},
     "output_type": "execute_result"
    }
   ],
   "source": [
    "df"
   ]
  },
  {
   "cell_type": "code",
   "execution_count": 16,
   "metadata": {},
   "outputs": [],
   "source": [
    "df['loc'] = df['address'].apply(geolocator.geocode, timeout=10)"
   ]
  },
  {
   "cell_type": "code",
   "execution_count": 17,
   "metadata": {},
   "outputs": [
    {
     "data": {
      "text/plain": [
       "0    (1 W Star Island Dr, Miami Beach, FL 33139, US...\n",
       "1    (2 W Star Island Dr, Miami Beach, FL 33139, US...\n",
       "2    (4609 Pine Tree Dr, Miami Beach, FL 33140, USA...\n",
       "3    (6480 Allison Rd, Miami Beach, FL 33141, USA, ...\n",
       "4    (1510 Bay Dr, Miami Beach, FL 33141, USA, (25....\n",
       "5    (5600 SW 136th Ave, Southwest Ranches, FL 3333...\n",
       "6    (16800 Berkshire Ct, Southwest Ranches, FL 333...\n",
       "7    (10031 Vestal Pl, Coral Springs, FL 33071, USA...\n",
       "Name: loc, dtype: object"
      ]
     },
     "execution_count": 17,
     "metadata": {},
     "output_type": "execute_result"
    }
   ],
   "source": [
    "df['loc']"
   ]
  },
  {
   "cell_type": "code",
   "execution_count": 18,
   "metadata": {},
   "outputs": [],
   "source": [
    "df['point'] = df['loc'].apply(lambda loc: tuple(loc.point) if loc else None)"
   ]
  },
  {
   "cell_type": "code",
   "execution_count": 28,
   "metadata": {},
   "outputs": [],
   "source": [
    "df[['lat','lon','altitude']] = pd.DataFrame(df['point'].to_list(),index=df.index)"
   ]
  },
  {
   "cell_type": "code",
   "execution_count": 47,
   "metadata": {},
   "outputs": [
    {
     "data": {
      "text/html": [
       "<div>\n",
       "<style scoped>\n",
       "    .dataframe tbody tr th:only-of-type {\n",
       "        vertical-align: middle;\n",
       "    }\n",
       "\n",
       "    .dataframe tbody tr th {\n",
       "        vertical-align: top;\n",
       "    }\n",
       "\n",
       "    .dataframe thead th {\n",
       "        text-align: right;\n",
       "    }\n",
       "</style>\n",
       "<table border=\"1\" class=\"dataframe\">\n",
       "  <thead>\n",
       "    <tr style=\"text-align: right;\">\n",
       "      <th></th>\n",
       "      <th>rapper</th>\n",
       "      <th>image_url_test</th>\n",
       "    </tr>\n",
       "  </thead>\n",
       "  <tbody>\n",
       "    <tr>\n",
       "      <th>0</th>\n",
       "      <td>Sean \"P. Diddy\" Combs</td>\n",
       "      <td>Sean_Combs_2010.jpg</td>\n",
       "    </tr>\n",
       "    <tr>\n",
       "      <th>1</th>\n",
       "      <td>Sean \"P. Diddy\" Combs</td>\n",
       "      <td>Sean_Combs_2010.jpg</td>\n",
       "    </tr>\n",
       "    <tr>\n",
       "      <th>2</th>\n",
       "      <td>DJ Khaled</td>\n",
       "      <td>DJ_Khaled_2012.jpg</td>\n",
       "    </tr>\n",
       "    <tr>\n",
       "      <th>3</th>\n",
       "      <td>Lil Wayne</td>\n",
       "      <td>LIL_WAYNE.jpg</td>\n",
       "    </tr>\n",
       "    <tr>\n",
       "      <th>4</th>\n",
       "      <td>Lil Pump</td>\n",
       "      <td>Lil_Pump_mugshot.jpg</td>\n",
       "    </tr>\n",
       "    <tr>\n",
       "      <th>5</th>\n",
       "      <td>Trippie Redd</td>\n",
       "      <td>redd.jpg</td>\n",
       "    </tr>\n",
       "    <tr>\n",
       "      <th>6</th>\n",
       "      <td>Rick Ross</td>\n",
       "      <td>Rick_Ross.jpg</td>\n",
       "    </tr>\n",
       "    <tr>\n",
       "      <th>7</th>\n",
       "      <td>Kodak Black</td>\n",
       "      <td>kodak_black.jpg</td>\n",
       "    </tr>\n",
       "  </tbody>\n",
       "</table>\n",
       "</div>"
      ],
      "text/plain": [
       "                  rapper        image_url_test\n",
       "0  Sean \"P. Diddy\" Combs   Sean_Combs_2010.jpg\n",
       "1  Sean \"P. Diddy\" Combs   Sean_Combs_2010.jpg\n",
       "2              DJ Khaled    DJ_Khaled_2012.jpg\n",
       "3              Lil Wayne         LIL_WAYNE.jpg\n",
       "4               Lil Pump  Lil_Pump_mugshot.jpg\n",
       "5           Trippie Redd              redd.jpg\n",
       "6              Rick Ross         Rick_Ross.jpg\n",
       "7            Kodak Black       kodak_black.jpg"
      ]
     },
     "execution_count": 47,
     "metadata": {},
     "output_type": "execute_result"
    }
   ],
   "source": [
    "df[['rapper','image_url_test']]"
   ]
  },
  {
   "cell_type": "code",
   "execution_count": 92,
   "metadata": {},
   "outputs": [],
   "source": [
    "df['image_url_test'] = ' '\n",
    "df['image_img_test'] = ' '"
   ]
  },
  {
   "cell_type": "code",
   "execution_count": 97,
   "metadata": {},
   "outputs": [],
   "source": [
    "df.at[0,'image_url_test']=('Sean_Combs_2010.jpg')\n",
    "df.at[1,'image_url_test']=('Sean_Combs_2010.jpg')\n",
    "df.at[2,'image_url_test']=('DJ_Khaled_2012.jpg')\n",
    "df.at[3,'image_url_test']=('LIL_WAYNE.jpg')\n",
    "df.at[4,'image_url_test']=('Lil_Pump.jpg')\n",
    "df.at[5,'image_url_test']=('Tripplie_Redd.jpg')\n",
    "df.at[6,'image_url_test']=('Rick_Ross.jpg')\n",
    "df.at[7,'image_url_test']=('Kodak_Black.jpg')\n",
    "\n",
    "df.at[0,'image_img_test']=('<img src=\"Sean_Combs_2010.jpg\" width=\"256\" height=\"311\">')\n",
    "df.at[1,'image_img_test']=('<img src=\"Sean_Combs_2010.jpg\" width=\"256\" height=\"311\">')\n",
    "df.at[2,'image_img_test']=('<img src=\"DJ_Khaled_2012.jpg\" width=\"256\" height=\"325\">')\n",
    "df.at[3,'image_img_test']=('<img src=\"LIL_WAYNE.jpg\" width=\"256\" height=\"384\">')\n",
    "df.at[4,'image_img_test']=('<img src=\"Lil_Pump.jpg\" width=\"256\" height=\"315\">')\n",
    "df.at[5,'image_img_test']=('<img src=\"Tripplie_Redd.jpg\" width=\"256\" height=\"300\">')\n",
    "df.at[6,'image_img_test']=('<img src=\"Rick_Ross.jpg\" width=\"256\" height=\"353\">')\n",
    "df.at[7,'image_img_test']=('<img src=\"Kodak_Black.jpg\" width=\"256\" height=\"385\">')"
   ]
  },
  {
   "cell_type": "code",
   "execution_count": 94,
   "metadata": {},
   "outputs": [
    {
     "data": {
      "text/plain": [
       "Index(['rapper', 'address', 'price', 'date_bought', 'image_url', 'loc',\n",
       "       'point', 'lat', 'lon', 'altitude', 'image_url_test', 'image_img_test'],\n",
       "      dtype='object')"
      ]
     },
     "execution_count": 94,
     "metadata": {},
     "output_type": "execute_result"
    }
   ],
   "source": [
    "df.columns"
   ]
  },
  {
   "cell_type": "code",
   "execution_count": 98,
   "metadata": {},
   "outputs": [
    {
     "data": {
      "text/html": [
       "<div style=\"width:100%;\"><div style=\"position:relative;width:100%;height:0;padding-bottom:60%;\"><span style=\"color:#565656\">Make this Notebook Trusted to load map: File -> Trust Notebook</span><iframe src=\"about:blank\" style=\"position:absolute;width:100%;height:100%;left:0;top:0;border:none !important;\" data-html=%3C%21DOCTYPE%20html%3E%0A%3Chead%3E%20%20%20%20%0A%20%20%20%20%3Cmeta%20http-equiv%3D%22content-type%22%20content%3D%22text/html%3B%20charset%3DUTF-8%22%20/%3E%0A%20%20%20%20%0A%20%20%20%20%20%20%20%20%3Cscript%3E%0A%20%20%20%20%20%20%20%20%20%20%20%20L_NO_TOUCH%20%3D%20false%3B%0A%20%20%20%20%20%20%20%20%20%20%20%20L_DISABLE_3D%20%3D%20false%3B%0A%20%20%20%20%20%20%20%20%3C/script%3E%0A%20%20%20%20%0A%20%20%20%20%3Cstyle%3Ehtml%2C%20body%20%7Bwidth%3A%20100%25%3Bheight%3A%20100%25%3Bmargin%3A%200%3Bpadding%3A%200%3B%7D%3C/style%3E%0A%20%20%20%20%3Cstyle%3E%23map%20%7Bposition%3Aabsolute%3Btop%3A0%3Bbottom%3A0%3Bright%3A0%3Bleft%3A0%3B%7D%3C/style%3E%0A%20%20%20%20%3Cscript%20src%3D%22https%3A//cdn.jsdelivr.net/npm/leaflet%401.6.0/dist/leaflet.js%22%3E%3C/script%3E%0A%20%20%20%20%3Cscript%20src%3D%22https%3A//code.jquery.com/jquery-1.12.4.min.js%22%3E%3C/script%3E%0A%20%20%20%20%3Cscript%20src%3D%22https%3A//maxcdn.bootstrapcdn.com/bootstrap/3.2.0/js/bootstrap.min.js%22%3E%3C/script%3E%0A%20%20%20%20%3Cscript%20src%3D%22https%3A//cdnjs.cloudflare.com/ajax/libs/Leaflet.awesome-markers/2.0.2/leaflet.awesome-markers.js%22%3E%3C/script%3E%0A%20%20%20%20%3Clink%20rel%3D%22stylesheet%22%20href%3D%22https%3A//cdn.jsdelivr.net/npm/leaflet%401.6.0/dist/leaflet.css%22/%3E%0A%20%20%20%20%3Clink%20rel%3D%22stylesheet%22%20href%3D%22https%3A//maxcdn.bootstrapcdn.com/bootstrap/3.2.0/css/bootstrap.min.css%22/%3E%0A%20%20%20%20%3Clink%20rel%3D%22stylesheet%22%20href%3D%22https%3A//maxcdn.bootstrapcdn.com/bootstrap/3.2.0/css/bootstrap-theme.min.css%22/%3E%0A%20%20%20%20%3Clink%20rel%3D%22stylesheet%22%20href%3D%22https%3A//maxcdn.bootstrapcdn.com/font-awesome/4.6.3/css/font-awesome.min.css%22/%3E%0A%20%20%20%20%3Clink%20rel%3D%22stylesheet%22%20href%3D%22https%3A//cdnjs.cloudflare.com/ajax/libs/Leaflet.awesome-markers/2.0.2/leaflet.awesome-markers.css%22/%3E%0A%20%20%20%20%3Clink%20rel%3D%22stylesheet%22%20href%3D%22https%3A//cdn.jsdelivr.net/gh/python-visualization/folium/folium/templates/leaflet.awesome.rotate.min.css%22/%3E%0A%20%20%20%20%0A%20%20%20%20%20%20%20%20%20%20%20%20%3Cmeta%20name%3D%22viewport%22%20content%3D%22width%3Ddevice-width%2C%0A%20%20%20%20%20%20%20%20%20%20%20%20%20%20%20%20initial-scale%3D1.0%2C%20maximum-scale%3D1.0%2C%20user-scalable%3Dno%22%20/%3E%0A%20%20%20%20%20%20%20%20%20%20%20%20%3Cstyle%3E%0A%20%20%20%20%20%20%20%20%20%20%20%20%20%20%20%20%23map_2ccfd2fd532d48f1bdb12045950eec37%20%7B%0A%20%20%20%20%20%20%20%20%20%20%20%20%20%20%20%20%20%20%20%20position%3A%20relative%3B%0A%20%20%20%20%20%20%20%20%20%20%20%20%20%20%20%20%20%20%20%20width%3A%20100.0%25%3B%0A%20%20%20%20%20%20%20%20%20%20%20%20%20%20%20%20%20%20%20%20height%3A%20100.0%25%3B%0A%20%20%20%20%20%20%20%20%20%20%20%20%20%20%20%20%20%20%20%20left%3A%200.0%25%3B%0A%20%20%20%20%20%20%20%20%20%20%20%20%20%20%20%20%20%20%20%20top%3A%200.0%25%3B%0A%20%20%20%20%20%20%20%20%20%20%20%20%20%20%20%20%7D%0A%20%20%20%20%20%20%20%20%20%20%20%20%3C/style%3E%0A%20%20%20%20%20%20%20%20%0A%20%20%20%20%3Cscript%20src%3D%22https%3A//cdnjs.cloudflare.com/ajax/libs/leaflet.markercluster/1.1.0/leaflet.markercluster.js%22%3E%3C/script%3E%0A%20%20%20%20%3Clink%20rel%3D%22stylesheet%22%20href%3D%22https%3A//cdnjs.cloudflare.com/ajax/libs/leaflet.markercluster/1.1.0/MarkerCluster.css%22/%3E%0A%20%20%20%20%3Clink%20rel%3D%22stylesheet%22%20href%3D%22https%3A//cdnjs.cloudflare.com/ajax/libs/leaflet.markercluster/1.1.0/MarkerCluster.Default.css%22/%3E%0A%3C/head%3E%0A%3Cbody%3E%20%20%20%20%0A%20%20%20%20%0A%20%20%20%20%20%20%20%20%20%20%20%20%20%20%3Ch3%20align%3D%22center%22%20style%3D%22font-size%3A16px%22%3E%3Cb%3ESouth%20Florida%27s%20Rap%20Pack%3C/b%3E%3C/h3%3E%0A%20%20%20%20%20%20%20%20%20%20%20%20%20%0A%20%20%20%20%0A%20%20%20%20%20%20%20%20%20%20%20%20%3Cdiv%20class%3D%22folium-map%22%20id%3D%22map_2ccfd2fd532d48f1bdb12045950eec37%22%20%3E%3C/div%3E%0A%20%20%20%20%20%20%20%20%0A%3C/body%3E%0A%3Cscript%3E%20%20%20%20%0A%20%20%20%20%0A%20%20%20%20%20%20%20%20%20%20%20%20var%20map_2ccfd2fd532d48f1bdb12045950eec37%20%3D%20L.map%28%0A%20%20%20%20%20%20%20%20%20%20%20%20%20%20%20%20%22map_2ccfd2fd532d48f1bdb12045950eec37%22%2C%0A%20%20%20%20%20%20%20%20%20%20%20%20%20%20%20%20%7B%0A%20%20%20%20%20%20%20%20%20%20%20%20%20%20%20%20%20%20%20%20center%3A%20%5B25.927384375%2C%20-80.20570355%5D%2C%0A%20%20%20%20%20%20%20%20%20%20%20%20%20%20%20%20%20%20%20%20crs%3A%20L.CRS.EPSG3857%2C%0A%20%20%20%20%20%20%20%20%20%20%20%20%20%20%20%20%20%20%20%20zoom%3A%209.5%2C%0A%20%20%20%20%20%20%20%20%20%20%20%20%20%20%20%20%20%20%20%20zoomControl%3A%20true%2C%0A%20%20%20%20%20%20%20%20%20%20%20%20%20%20%20%20%20%20%20%20preferCanvas%3A%20false%2C%0A%20%20%20%20%20%20%20%20%20%20%20%20%20%20%20%20%7D%0A%20%20%20%20%20%20%20%20%20%20%20%20%29%3B%0A%0A%20%20%20%20%20%20%20%20%20%20%20%20%0A%0A%20%20%20%20%20%20%20%20%0A%20%20%20%20%0A%20%20%20%20%20%20%20%20%20%20%20%20var%20tile_layer_733cb435c7e947c2a31efbd3596471ef%20%3D%20L.tileLayer%28%0A%20%20%20%20%20%20%20%20%20%20%20%20%20%20%20%20%22https%3A//%7Bs%7D.tile.openstreetmap.org/%7Bz%7D/%7Bx%7D/%7By%7D.png%22%2C%0A%20%20%20%20%20%20%20%20%20%20%20%20%20%20%20%20%7B%22attribution%22%3A%20%22Data%20by%20%5Cu0026copy%3B%20%5Cu003ca%20href%3D%5C%22http%3A//openstreetmap.org%5C%22%5Cu003eOpenStreetMap%5Cu003c/a%5Cu003e%2C%20under%20%5Cu003ca%20href%3D%5C%22http%3A//www.openstreetmap.org/copyright%5C%22%5Cu003eODbL%5Cu003c/a%5Cu003e.%22%2C%20%22detectRetina%22%3A%20false%2C%20%22maxNativeZoom%22%3A%2018%2C%20%22maxZoom%22%3A%2018%2C%20%22minZoom%22%3A%200%2C%20%22noWrap%22%3A%20false%2C%20%22opacity%22%3A%201%2C%20%22subdomains%22%3A%20%22abc%22%2C%20%22tms%22%3A%20false%7D%0A%20%20%20%20%20%20%20%20%20%20%20%20%29.addTo%28map_2ccfd2fd532d48f1bdb12045950eec37%29%3B%0A%20%20%20%20%20%20%20%20%0A%20%20%20%20%0A%20%20%20%20%20%20%20%20%20%20%20%20var%20marker_cluster_af32daae5dd64668ae02c314d93538d9%20%3D%20L.markerClusterGroup%28%0A%20%20%20%20%20%20%20%20%20%20%20%20%20%20%20%20%7B%7D%0A%20%20%20%20%20%20%20%20%20%20%20%20%29%3B%0A%20%20%20%20%20%20%20%20%20%20%20%20map_2ccfd2fd532d48f1bdb12045950eec37.addLayer%28marker_cluster_af32daae5dd64668ae02c314d93538d9%29%3B%0A%20%20%20%20%20%20%20%20%0A%20%20%20%20%0A%20%20%20%20%20%20%20%20%20%20%20%20var%20marker_fb98c749f92a4002a7769ba02d38ed5b%20%3D%20L.marker%28%0A%20%20%20%20%20%20%20%20%20%20%20%20%20%20%20%20%5B25.7745914%2C%20-80.1510354%5D%2C%0A%20%20%20%20%20%20%20%20%20%20%20%20%20%20%20%20%7B%7D%0A%20%20%20%20%20%20%20%20%20%20%20%20%29.addTo%28marker_cluster_af32daae5dd64668ae02c314d93538d9%29%3B%0A%20%20%20%20%20%20%20%20%0A%20%20%20%20%0A%20%20%20%20%20%20%20%20%20%20%20%20marker_fb98c749f92a4002a7769ba02d38ed5b.bindTooltip%28%0A%20%20%20%20%20%20%20%20%20%20%20%20%20%20%20%20%60%3Cdiv%3E%0A%20%20%20%20%20%20%20%20%20%20%20%20%20%20%20%20%20%20%20%20%20Rapper%3A%20%3Cstrong%3ESean%20%22P.%20Diddy%22%20Combs%3C/strong%3E%3Cbr%3E%20%20%20%20%20Address%3A%20%3Cstrong%3E1%20Star%20Island%20Drive%2C%20Miami%20Beach%2C%20Fl%2033139%3C/strong%3E%3Cbr%3EPrice%3A%20%20%20%20%20%3Cstrong%3E%2435%20million%3C/strong%3E%3Cbr%3EDate%20bought%3A%20%3Cstrong%3EJuly%2023%2C%202021%3C/strong%3E%3Cbr%3E%3Cimg%20src%3D%22Sean_Combs_2010.jpg%22%20width%3D%22256%22%20height%3D%22311%22%3E%0A%20%20%20%20%20%20%20%20%20%20%20%20%20%20%20%20%20%3C/div%3E%60%2C%0A%20%20%20%20%20%20%20%20%20%20%20%20%20%20%20%20%7B%22sticky%22%3A%20true%7D%0A%20%20%20%20%20%20%20%20%20%20%20%20%29%3B%0A%20%20%20%20%20%20%20%20%0A%20%20%20%20%0A%20%20%20%20%20%20%20%20%20%20%20%20var%20marker_3f73b1aa1c3549cdb6e220ae6b0eb3ec%20%3D%20L.marker%28%0A%20%20%20%20%20%20%20%20%20%20%20%20%20%20%20%20%5B25.7750363%2C%20-80.1511881%5D%2C%0A%20%20%20%20%20%20%20%20%20%20%20%20%20%20%20%20%7B%7D%0A%20%20%20%20%20%20%20%20%20%20%20%20%29.addTo%28marker_cluster_af32daae5dd64668ae02c314d93538d9%29%3B%0A%20%20%20%20%20%20%20%20%0A%20%20%20%20%0A%20%20%20%20%20%20%20%20%20%20%20%20marker_3f73b1aa1c3549cdb6e220ae6b0eb3ec.bindTooltip%28%0A%20%20%20%20%20%20%20%20%20%20%20%20%20%20%20%20%60%3Cdiv%3E%0A%20%20%20%20%20%20%20%20%20%20%20%20%20%20%20%20%20%20%20%20%20Rapper%3A%20%3Cstrong%3ESean%20%22P.%20Diddy%22%20Combs%3C/strong%3E%3Cbr%3E%20%20%20%20%20Address%3A%20%3Cstrong%3E2%20Star%20Island%20Drive%2C%20Miami%20Beach%2C%20Fl%2033139%3C/strong%3E%3Cbr%3EPrice%3A%20%20%20%20%20%3Cstrong%3E%2415%20million%3C/strong%3E%3Cbr%3EDate%20bought%3A%20%3Cstrong%3ENovember%201%2C%202003%3C/strong%3E%3Cbr%3E%3Cimg%20src%3D%22Sean_Combs_2010.jpg%22%20width%3D%22256%22%20height%3D%22311%22%3E%0A%20%20%20%20%20%20%20%20%20%20%20%20%20%20%20%20%20%3C/div%3E%60%2C%0A%20%20%20%20%20%20%20%20%20%20%20%20%20%20%20%20%7B%22sticky%22%3A%20true%7D%0A%20%20%20%20%20%20%20%20%20%20%20%20%29%3B%0A%20%20%20%20%20%20%20%20%0A%20%20%20%20%0A%20%20%20%20%20%20%20%20%20%20%20%20var%20marker_b11bbca01ec149b2a8c51b0638cb620d%20%3D%20L.marker%28%0A%20%20%20%20%20%20%20%20%20%20%20%20%20%20%20%20%5B25.8210968%2C%20-80.12501879999999%5D%2C%0A%20%20%20%20%20%20%20%20%20%20%20%20%20%20%20%20%7B%7D%0A%20%20%20%20%20%20%20%20%20%20%20%20%29.addTo%28marker_cluster_af32daae5dd64668ae02c314d93538d9%29%3B%0A%20%20%20%20%20%20%20%20%0A%20%20%20%20%0A%20%20%20%20%20%20%20%20%20%20%20%20marker_b11bbca01ec149b2a8c51b0638cb620d.bindTooltip%28%0A%20%20%20%20%20%20%20%20%20%20%20%20%20%20%20%20%60%3Cdiv%3E%0A%20%20%20%20%20%20%20%20%20%20%20%20%20%20%20%20%20%20%20%20%20Rapper%3A%20%3Cstrong%3EDJ%20Khaled%3C/strong%3E%3Cbr%3E%20%20%20%20%20Address%3A%20%3Cstrong%3E4609%20Pine%20Tree%20Drive%2C%20Miami%20Beach%2C%20FL%2033140%3C/strong%3E%3Cbr%3EPrice%3A%20%20%20%20%20%3Cstrong%3E%2421.7%20million%3C/strong%3E%3Cbr%3EDate%20bought%3A%20%3Cstrong%3ESeptember%2028%2C%202018%3C/strong%3E%3Cbr%3E%3Cimg%20src%3D%22DJ_Khaled_2012.jpg%22%20width%3D%22256%22%20height%3D%22325%22%3E%0A%20%20%20%20%20%20%20%20%20%20%20%20%20%20%20%20%20%3C/div%3E%60%2C%0A%20%20%20%20%20%20%20%20%20%20%20%20%20%20%20%20%7B%22sticky%22%3A%20true%7D%0A%20%20%20%20%20%20%20%20%20%20%20%20%29%3B%0A%20%20%20%20%20%20%20%20%0A%20%20%20%20%0A%20%20%20%20%20%20%20%20%20%20%20%20var%20marker_bee6499b78fd45c4b1ac001123da26a7%20%3D%20L.marker%28%0A%20%20%20%20%20%20%20%20%20%20%20%20%20%20%20%20%5B25.8472256%2C%20-80.1245825%5D%2C%0A%20%20%20%20%20%20%20%20%20%20%20%20%20%20%20%20%7B%7D%0A%20%20%20%20%20%20%20%20%20%20%20%20%29.addTo%28marker_cluster_af32daae5dd64668ae02c314d93538d9%29%3B%0A%20%20%20%20%20%20%20%20%0A%20%20%20%20%0A%20%20%20%20%20%20%20%20%20%20%20%20marker_bee6499b78fd45c4b1ac001123da26a7.bindTooltip%28%0A%20%20%20%20%20%20%20%20%20%20%20%20%20%20%20%20%60%3Cdiv%3E%0A%20%20%20%20%20%20%20%20%20%20%20%20%20%20%20%20%20%20%20%20%20Rapper%3A%20%3Cstrong%3ELil%20Wayne%3C/strong%3E%3Cbr%3E%20%20%20%20%20Address%3A%20%3Cstrong%3E6480%20Allison%20Road%2C%20Miami%20Beach%2C%20FL%2033141%3C/strong%3E%3Cbr%3EPrice%3A%20%20%20%20%20%3Cstrong%3E%2416.7%20million%3C/strong%3E%3Cbr%3EDate%20bought%3A%20%3Cstrong%3ENovember%2021%2C%202018%3C/strong%3E%3Cbr%3E%3Cimg%20src%3D%22LIL_WAYNE.jpg%22%20width%3D%22256%22%20height%3D%22384%22%3E%0A%20%20%20%20%20%20%20%20%20%20%20%20%20%20%20%20%20%3C/div%3E%60%2C%0A%20%20%20%20%20%20%20%20%20%20%20%20%20%20%20%20%7B%22sticky%22%3A%20true%7D%0A%20%20%20%20%20%20%20%20%20%20%20%20%29%3B%0A%20%20%20%20%20%20%20%20%0A%20%20%20%20%0A%20%20%20%20%20%20%20%20%20%20%20%20var%20marker_f80657a34a5540269b231b717c7fde61%20%3D%20L.marker%28%0A%20%20%20%20%20%20%20%20%20%20%20%20%20%20%20%20%5B25.8511102%2C%20-80.13359009999999%5D%2C%0A%20%20%20%20%20%20%20%20%20%20%20%20%20%20%20%20%7B%7D%0A%20%20%20%20%20%20%20%20%20%20%20%20%29.addTo%28marker_cluster_af32daae5dd64668ae02c314d93538d9%29%3B%0A%20%20%20%20%20%20%20%20%0A%20%20%20%20%0A%20%20%20%20%20%20%20%20%20%20%20%20marker_f80657a34a5540269b231b717c7fde61.bindTooltip%28%0A%20%20%20%20%20%20%20%20%20%20%20%20%20%20%20%20%60%3Cdiv%3E%0A%20%20%20%20%20%20%20%20%20%20%20%20%20%20%20%20%20%20%20%20%20Rapper%3A%20%3Cstrong%3ELil%20Pump%3C/strong%3E%3Cbr%3E%20%20%20%20%20Address%3A%20%3Cstrong%3E1510%20Bay%20Drive%2C%20Miami%20Beach%2C%20FL%2033141%3C/strong%3E%3Cbr%3EPrice%3A%20%20%20%20%20%3Cstrong%3E%244.6%20million%3C/strong%3E%3Cbr%3EDate%20bought%3A%20%3Cstrong%3EJuly%203%2C%202019%3C/strong%3E%3Cbr%3E%3Cimg%20src%3D%22Lil_Pump.jpg%22%20width%3D%22256%22%20height%3D%22315%22%3E%0A%20%20%20%20%20%20%20%20%20%20%20%20%20%20%20%20%20%3C/div%3E%60%2C%0A%20%20%20%20%20%20%20%20%20%20%20%20%20%20%20%20%7B%22sticky%22%3A%20true%7D%0A%20%20%20%20%20%20%20%20%20%20%20%20%29%3B%0A%20%20%20%20%20%20%20%20%0A%20%20%20%20%0A%20%20%20%20%20%20%20%20%20%20%20%20var%20marker_ad78a0dfcc064a7087b22c1d4f819790%20%3D%20L.marker%28%0A%20%20%20%20%20%20%20%20%20%20%20%20%20%20%20%20%5B26.0491034%2C%20-80.32853490000001%5D%2C%0A%20%20%20%20%20%20%20%20%20%20%20%20%20%20%20%20%7B%7D%0A%20%20%20%20%20%20%20%20%20%20%20%20%29.addTo%28marker_cluster_af32daae5dd64668ae02c314d93538d9%29%3B%0A%20%20%20%20%20%20%20%20%0A%20%20%20%20%0A%20%20%20%20%20%20%20%20%20%20%20%20marker_ad78a0dfcc064a7087b22c1d4f819790.bindTooltip%28%0A%20%20%20%20%20%20%20%20%20%20%20%20%20%20%20%20%60%3Cdiv%3E%0A%20%20%20%20%20%20%20%20%20%20%20%20%20%20%20%20%20%20%20%20%20Rapper%3A%20%3Cstrong%3ETrippie%20Redd%3C/strong%3E%3Cbr%3E%20%20%20%20%20Address%3A%20%3Cstrong%3E5600%20Southwest%20136th%20Avenue%2C%20Southwest%20Ranches%2C%20FL%2033330%3C/strong%3E%3Cbr%3EPrice%3A%20%20%20%20%20%3Cstrong%3E%247.5%20million%3C/strong%3E%3Cbr%3EDate%20bought%3A%20%3Cstrong%3EMay%2013%2C%202022%3C/strong%3E%3Cbr%3E%3Cimg%20src%3D%22Tripplie_Redd.jpg%22%20width%3D%22256%22%20height%3D%22300%22%3E%0A%20%20%20%20%20%20%20%20%20%20%20%20%20%20%20%20%20%3C/div%3E%60%2C%0A%20%20%20%20%20%20%20%20%20%20%20%20%20%20%20%20%7B%22sticky%22%3A%20true%7D%0A%20%20%20%20%20%20%20%20%20%20%20%20%29%3B%0A%20%20%20%20%20%20%20%20%0A%20%20%20%20%0A%20%20%20%20%20%20%20%20%20%20%20%20var%20marker_3db590f7808d4445a7dd464845acdf6e%20%3D%20L.marker%28%0A%20%20%20%20%20%20%20%20%20%20%20%20%20%20%20%20%5B26.046621%2C%20-80.3739988%5D%2C%0A%20%20%20%20%20%20%20%20%20%20%20%20%20%20%20%20%7B%7D%0A%20%20%20%20%20%20%20%20%20%20%20%20%29.addTo%28marker_cluster_af32daae5dd64668ae02c314d93538d9%29%3B%0A%20%20%20%20%20%20%20%20%0A%20%20%20%20%0A%20%20%20%20%20%20%20%20%20%20%20%20marker_3db590f7808d4445a7dd464845acdf6e.bindTooltip%28%0A%20%20%20%20%20%20%20%20%20%20%20%20%20%20%20%20%60%3Cdiv%3E%0A%20%20%20%20%20%20%20%20%20%20%20%20%20%20%20%20%20%20%20%20%20Rapper%3A%20%3Cstrong%3ERick%20Ross%3C/strong%3E%3Cbr%3E%20%20%20%20%20Address%3A%20%3Cstrong%3E16800%20Bershire%20Court%2C%20Southwest%20Ranches%2C%20FL%2033331%3C/strong%3E%3Cbr%3EPrice%3A%20%20%20%20%20%3Cstrong%3E%243.5%20million%3C/strong%3E%3Cbr%3EDate%20bought%3A%20%3Cstrong%3EMarch%202%2C%202021%3C/strong%3E%3Cbr%3E%3Cimg%20src%3D%22Rick_Ross.jpg%22%20width%3D%22256%22%20height%3D%22353%22%3E%0A%20%20%20%20%20%20%20%20%20%20%20%20%20%20%20%20%20%3C/div%3E%60%2C%0A%20%20%20%20%20%20%20%20%20%20%20%20%20%20%20%20%7B%22sticky%22%3A%20true%7D%0A%20%20%20%20%20%20%20%20%20%20%20%20%29%3B%0A%20%20%20%20%20%20%20%20%0A%20%20%20%20%0A%20%20%20%20%20%20%20%20%20%20%20%20var%20marker_8b07d5e779f94a4fbebad1f2a8c57f5f%20%3D%20L.marker%28%0A%20%20%20%20%20%20%20%20%20%20%20%20%20%20%20%20%5B26.2542903%2C%20-80.2576798%5D%2C%0A%20%20%20%20%20%20%20%20%20%20%20%20%20%20%20%20%7B%7D%0A%20%20%20%20%20%20%20%20%20%20%20%20%29.addTo%28marker_cluster_af32daae5dd64668ae02c314d93538d9%29%3B%0A%20%20%20%20%20%20%20%20%0A%20%20%20%20%0A%20%20%20%20%20%20%20%20%20%20%20%20marker_8b07d5e779f94a4fbebad1f2a8c57f5f.bindTooltip%28%0A%20%20%20%20%20%20%20%20%20%20%20%20%20%20%20%20%60%3Cdiv%3E%0A%20%20%20%20%20%20%20%20%20%20%20%20%20%20%20%20%20%20%20%20%20Rapper%3A%20%3Cstrong%3EKodak%20Black%3C/strong%3E%3Cbr%3E%20%20%20%20%20Address%3A%20%3Cstrong%3E10031%20Vestal%20Place%2C%20Coral%20Springs%3C/strong%3E%3Cbr%3EPrice%3A%20%20%20%20%20%3Cstrong%3E%241.8%20million%3C/strong%3E%3Cbr%3EDate%20bought%3A%20%3Cstrong%3EFebruary%2018%2C%202022%3C/strong%3E%3Cbr%3E%3Cimg%20src%3D%22Kodak_Black.jpg%22%20width%3D%22256%22%20height%3D%22385%22%3E%0A%20%20%20%20%20%20%20%20%20%20%20%20%20%20%20%20%20%3C/div%3E%60%2C%0A%20%20%20%20%20%20%20%20%20%20%20%20%20%20%20%20%7B%22sticky%22%3A%20true%7D%0A%20%20%20%20%20%20%20%20%20%20%20%20%29%3B%0A%20%20%20%20%20%20%20%20%0A%3C/script%3E onload=\"this.contentDocument.open();this.contentDocument.write(    decodeURIComponent(this.getAttribute('data-html')));this.contentDocument.close();\" allowfullscreen webkitallowfullscreen mozallowfullscreen></iframe></div></div>"
      ],
      "text/plain": [
       "<folium.folium.Map at 0x230816fefa0>"
      ]
     },
     "execution_count": 98,
     "metadata": {},
     "output_type": "execute_result"
    }
   ],
   "source": [
    "import folium\n",
    "from folium.plugins import MarkerCluster\n",
    "from folium import IFrame\n",
    "\n",
    "m = folium.Map(location=df[[\"lat\", \"lon\"]].mean().to_list(), zoom_start=9.5)\n",
    "title_html = '''\n",
    "              <h3 align=\"center\" style=\"font-size:16px\"><b>{}</b></h3>\n",
    "             '''.format(f'South Florida\\'s Rap Pack')\n",
    "\n",
    "marker_cluster = MarkerCluster().add_to(m)\n",
    "\n",
    "for i,r in df.iterrows():\n",
    "    location = (r[\"lat\"], r[\"lon\"])\n",
    "    info = (r[\"rapper\"], r[\"address\"], r[\"price\"], r['date_bought'], r['image_img_test'])\n",
    "\n",
    "    \n",
    "    \n",
    "    \n",
    "    \n",
    "    \n",
    "    \n",
    "    \n",
    "    \n",
    "    info = list(info)\n",
    "    new_line = '<br>'\n",
    "    bold_start = '<strong>'\n",
    "    bold_end = '</strong>'\n",
    "    text = f'Rapper: {bold_start}{info[0]}{bold_end}{new_line} \\\n",
    "    Address: {bold_start}{info[1]}{bold_end}{new_line}Price: \\\n",
    "    {bold_start}{info[2]}{bold_end}{new_line}Date bought: {bold_start}{info[3]}{bold_end}{new_line}{info[-1]}'\n",
    "    folium.Marker(location=location,\n",
    "                      tooltip=text)\\\n",
    "    .add_to(marker_cluster)\n",
    "\n",
    "m.get_root().html.add_child(folium.Element(title_html))\n",
    "\n",
    "m"
   ]
  },
  {
   "cell_type": "code",
   "execution_count": null,
   "metadata": {},
   "outputs": [],
   "source": []
  },
  {
   "cell_type": "code",
   "execution_count": null,
   "metadata": {},
   "outputs": [],
   "source": []
  },
  {
   "cell_type": "code",
   "execution_count": null,
   "metadata": {},
   "outputs": [],
   "source": []
  }
 ],
 "metadata": {
  "kernelspec": {
   "display_name": "Python 3",
   "language": "python",
   "name": "python3"
  },
  "language_info": {
   "codemirror_mode": {
    "name": "ipython",
    "version": 3
   },
   "file_extension": ".py",
   "mimetype": "text/x-python",
   "name": "python",
   "nbconvert_exporter": "python",
   "pygments_lexer": "ipython3",
   "version": "3.8.6"
  },
  "toc": {
   "base_numbering": 1,
   "nav_menu": {},
   "number_sections": true,
   "sideBar": true,
   "skip_h1_title": false,
   "title_cell": "Table of Contents",
   "title_sidebar": "Contents",
   "toc_cell": false,
   "toc_position": {},
   "toc_section_display": true,
   "toc_window_display": false
  }
 },
 "nbformat": 4,
 "nbformat_minor": 4
}
